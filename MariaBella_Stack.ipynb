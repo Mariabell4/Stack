{
  "nbformat": 4,
  "nbformat_minor": 0,
  "metadata": {
    "colab": {
      "provenance": [],
      "authorship_tag": "ABX9TyMNyY9xrpAjhfhUsBW9keGN",
      "include_colab_link": true
    },
    "kernelspec": {
      "name": "python3",
      "display_name": "Python 3"
    },
    "language_info": {
      "name": "python"
    }
  },
  "cells": [
    {
      "cell_type": "markdown",
      "metadata": {
        "id": "view-in-github",
        "colab_type": "text"
      },
      "source": [
        "<a href=\"https://colab.research.google.com/github/Mariabell4/Stack/blob/main/MariaBella_Stack.ipynb\" target=\"_parent\"><img src=\"https://colab.research.google.com/assets/colab-badge.svg\" alt=\"Open In Colab\"/></a>"
      ]
    },
    {
      "cell_type": "code",
      "execution_count": 3,
      "metadata": {
        "colab": {
          "base_uri": "https://localhost:8080/"
        },
        "id": "CAXFRC4-aNN9",
        "outputId": "592b36b6-b144-4dac-cb7f-9608258650a6"
      },
      "outputs": [
        {
          "output_type": "stream",
          "name": "stdout",
          "text": [
            "Stack sudah penuh\n",
            "Isi stack sekarang: ['telur', 'mentega', 'tepung']\n"
          ]
        }
      ],
      "source": [
        "def tambah_isi(stack, isi):\n",
        "  if len(stack) >= 3:\n",
        "    print(\"Stack sudah penuh\")\n",
        "  else:\n",
        "    stack.append(isi)\n",
        "\n",
        "# Memanggil fungsi\n",
        "stack = [] # buat stack kosong\n",
        "\n",
        "tambah_isi(stack, \"telur\")\n",
        "tambah_isi(stack, \"mentega\")\n",
        "tambah_isi(stack, \"tepung\")\n",
        "tambah_isi(stack, \"susu\") # ini harusnya cetak \"Stack sudah penuh\"\n",
        "\n",
        "print(\"Isi stack sekarang:\", stack)"
      ]
    }
  ]
}